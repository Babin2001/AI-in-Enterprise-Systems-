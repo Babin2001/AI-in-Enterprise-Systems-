{
 "cells": [
  {
   "cell_type": "code",
   "execution_count": 1,
   "id": "0af35d05",
   "metadata": {},
   "outputs": [
    {
     "name": "stdout",
     "output_type": "stream",
     "text": [
      "Prime numbers between 10 and 50:\n",
      "[11, 13, 17, 19, 23, 29, 31, 37, 41, 43, 47]\n"
     ]
    }
   ],
   "source": [
    "def is_prime(num):\n",
    "    if num < 2:\n",
    "        return False\n",
    "    for i in range(2, int(num**0.5) + 1):\n",
    "        if num % i == 0:\n",
    "            return False\n",
    "    return True\n",
    "\n",
    "def find_primes_in_range(start, end):\n",
    "    primes = []\n",
    "    for number in range(start, end + 1):\n",
    "        if is_prime(number):\n",
    "            primes.append(number)\n",
    "    return primes\n",
    "start_range = 10\n",
    "end_range = 50\n",
    "result = find_primes_in_range(start_range, end_range)\n",
    "\n",
    "print(f\"Prime numbers between {start_range} and {end_range}:\")\n",
    "print(result)\n"
   ]
  },
  {
   "cell_type": "code",
   "execution_count": null,
   "id": "7344091f",
   "metadata": {},
   "outputs": [],
   "source": []
  }
 ],
 "metadata": {
  "kernelspec": {
   "display_name": "Python 3 (ipykernel)",
   "language": "python",
   "name": "python3"
  },
  "language_info": {
   "codemirror_mode": {
    "name": "ipython",
    "version": 3
   },
   "file_extension": ".py",
   "mimetype": "text/x-python",
   "name": "python",
   "nbconvert_exporter": "python",
   "pygments_lexer": "ipython3",
   "version": "3.11.4"
  }
 },
 "nbformat": 4,
 "nbformat_minor": 5
}
